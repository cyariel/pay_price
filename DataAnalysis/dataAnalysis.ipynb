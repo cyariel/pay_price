{
 "cells": [
  {
   "cell_type": "markdown",
   "metadata": {},
   "source": [
    "# 游戏玩家付费金额预测大赛\n",
    "## 一、相关描述\n",
    "\n",
    "【任务】根据玩家在前7日的行为数据，预测玩家前45日付费金额\n",
    "\n",
    "【数据】\n",
    "\n",
    "1）\t训练集（带标签）：2288007个样本 带标签的训练集中共有2288007个样本。tap_fun_train.csv中存有训练集样本的全部信息，user_id为样本的id，prediction_pay_price为训练集标签，其他字段为特征 \n",
    "\n",
    "2）\t测试集：828934个样本 tap_fun_test.csv中存有测试集的特征信息，除无prediction_pay_price字段外，格式同tap_fun_train.csv。参赛者的目标是尽可能准确地预测第45天的消费金额prediction_pay_price \n",
    "\n",
    "3） tap4fun 数据字段解释.xlsx 为本次比赛数据109个字段的解释，每个属性对应的数据均用“数值”表示，无空值\n",
    "\n",
    "【主要字段解释】\n",
    "\n",
    "自变量\n",
    "\n",
    "user_id\t玩家唯一ID；register_time 玩家注册时间；avg_online_minutes 在线时长；pay_price 前七日付费金额；pay_count 前七日付费次数\n",
    "\n",
    "因变量\n",
    "\n",
    "prediction_pay_price 前45日付费金额\n",
    "\n",
    "【参赛链接】\n",
    "\n",
    "http://www.dcjingsai.com/common/cmpt/%E6%B8%B8%E6%88%8F%E7%8E%A9%E5%AE%B6%E4%BB%98%E8%B4%B9%E9%87%91%E9%A2%9D%E9%A2%84%E6%B5%8B%E5%A4%A7%E8%B5%9B_%E8%B5%9B%E4%BD%93%E4%B8%8E%E6%95%B0%E6%8D%AE.html"
   ]
  },
  {
   "cell_type": "markdown",
   "metadata": {},
   "source": [
    "## 二、熟悉数据\n",
    "### 1. 提取数据"
   ]
  },
  {
   "cell_type": "code",
   "execution_count": 1,
   "metadata": {},
   "outputs": [],
   "source": [
    "import pandas as pd\n",
    "import numpy as np\n",
    "import matplotlib.pyplot as plt\n",
    "import seaborn as sns"
   ]
  },
  {
   "cell_type": "code",
   "execution_count": 2,
   "metadata": {},
   "outputs": [
    {
     "name": "stdout",
     "output_type": "stream",
     "text": [
      "train shape is:\n",
      "(2288007, 109)\n",
      "test shape is:\n",
      "(828934, 108)\n"
     ]
    }
   ],
   "source": [
    "train = pd.read_csv('/Users/cy_ariel/Desktop/tap4fun竞赛数据/tap_fun_train.csv')\n",
    "test = pd.read_csv('/Users/cy_ariel/Desktop/tap4fun竞赛数据/tap_fun_test.csv')\n",
    "print('train shape is:')\n",
    "print(train.shape)\n",
    "print('test shape is:')\n",
    "print(test.shape)"
   ]
  },
  {
   "cell_type": "markdown",
   "metadata": {},
   "source": [
    "数据量很大，有一百多个变量"
   ]
  },
  {
   "cell_type": "markdown",
   "metadata": {},
   "source": [
    "### 2. pay_price"
   ]
  },
  {
   "cell_type": "markdown",
   "metadata": {},
   "source": [
    "#### 1）前七天有付费行为train_pay_7"
   ]
  },
  {
   "cell_type": "code",
   "execution_count": 3,
   "metadata": {},
   "outputs": [
    {
     "name": "stdout",
     "output_type": "stream",
     "text": [
      "train_pay_7 shape is:\n",
      "(41439, 109)\n"
     ]
    }
   ],
   "source": [
    "train_pay_7 = train[train['pay_price']>0]\n",
    "print('train_pay_7 shape is:')\n",
    "print(train_pay_7.shape)"
   ]
  },
  {
   "cell_type": "code",
   "execution_count": 4,
   "metadata": {},
   "outputs": [
    {
     "data": {
      "image/png": "[encoded data removed]",
      "text/plain": [
       "<Figure size 432x288 with 1 Axes>"
      ]
     },
     "metadata": {
      "needs_background": "light"
     },
     "output_type": "display_data"
    }
   ],
   "source": [
    "#pay_price与prediction_pay_price散点图\n",
    "plt.scatter(train_pay_7['pay_price'],train_pay_7['prediction_pay_price'])\n",
    "plt.xlabel(\"pay_price\")\n",
    "plt.ylabel(\"prediction_pay_price\")\n",
    "plt.show()"
   ]
  },
  {
   "cell_type": "code",
   "execution_count": 5,
   "metadata": {},
   "outputs": [
    {
     "data": {
      "text/plain": [
       "count    41439.000000\n",
       "mean        29.521143\n",
       "std        165.655561\n",
       "min          0.990000\n",
       "25%          0.990000\n",
       "50%          1.990000\n",
       "75%         11.970000\n",
       "max       7457.950000\n",
       "Name: pay_price, dtype: float64"
      ]
     },
     "execution_count": 5,
     "metadata": {},
     "output_type": "execute_result"
    }
   ],
   "source": [
    "train_pay_7['pay_price'].describe()"
   ]
  },
  {
   "cell_type": "code",
   "execution_count": 6,
   "metadata": {},
   "outputs": [
    {
     "data": {
      "text/plain": [
       "count    41439.000000\n",
       "mean        94.522940\n",
       "std        645.678279\n",
       "min          0.990000\n",
       "25%          0.990000\n",
       "50%          3.970000\n",
       "75%         21.950000\n",
       "max      32977.810000\n",
       "Name: prediction_pay_price, dtype: float64"
      ]
     },
     "execution_count": 6,
     "metadata": {},
     "output_type": "execute_result"
    }
   ],
   "source": [
    "train_pay_7['prediction_pay_price'].describe()"
   ]
  },
  {
   "cell_type": "markdown",
   "metadata": {},
   "source": [
    "上面可以看出有很大一部分用户付费0.99，估计是有什么活动0.99可以送很多东西？付款最多的用户，45天付了3万多块钱？真土豪"
   ]
  },
  {
   "cell_type": "markdown",
   "metadata": {},
   "source": [
    "#### 2）前七天付费后面不继续付费train_pay_7_nopay_45"
   ]
  },
  {
   "cell_type": "code",
   "execution_count": 8,
   "metadata": {},
   "outputs": [
    {
     "name": "stdout",
     "output_type": "stream",
     "text": [
      "train_pay_7_nopay_45 shape is:\n",
      "(30130, 109)\n"
     ]
    }
   ],
   "source": [
    "train_pay_7_nopay_45 = train_pay_7[train_pay_7['prediction_pay_price']==train_pay_7['pay_price']]\n",
    "print('train_pay_7_nopay_45 shape is:')\n",
    "print(train_pay_7_nopay_45.shape)"
   ]
  },
  {
   "cell_type": "code",
   "execution_count": 9,
   "metadata": {},
   "outputs": [
    {
     "data": {
      "text/plain": [
       "count    30130.000000\n",
       "mean        11.407407\n",
       "std         71.134875\n",
       "min          0.990000\n",
       "25%          0.990000\n",
       "50%          1.980000\n",
       "75%          5.980000\n",
       "max       4086.520000\n",
       "Name: pay_price, dtype: float64"
      ]
     },
     "execution_count": 9,
     "metadata": {},
     "output_type": "execute_result"
    }
   ],
   "source": [
    "train_pay_7_nopay_45['pay_price'].describe()"
   ]
  },
  {
   "cell_type": "markdown",
   "metadata": {},
   "source": [
    "#### 3）前7天付费后面继续付费train_pay_7_pay_45"
   ]
  },
  {
   "cell_type": "code",
   "execution_count": 10,
   "metadata": {},
   "outputs": [
    {
     "name": "stdout",
     "output_type": "stream",
     "text": [
      "train_pay_7_pay_45 shape is:\n",
      "(11309, 109)\n"
     ]
    }
   ],
   "source": [
    "train_pay_7_pay_45 = train_pay_7[train_pay_7['prediction_pay_price']>train_pay_7['pay_price']]\n",
    "print('train_pay_7_pay_45 shape is:')\n",
    "print(train_pay_7_pay_45.shape)"
   ]
  },
  {
   "cell_type": "code",
   "execution_count": 11,
   "metadata": {},
   "outputs": [
    {
     "data": {
      "text/plain": [
       "count    11309.000000\n",
       "mean        77.780661\n",
       "std        289.610458\n",
       "min          0.990000\n",
       "25%          2.980000\n",
       "50%         15.970000\n",
       "75%         45.940000\n",
       "max       7457.950000\n",
       "Name: pay_price, dtype: float64"
      ]
     },
     "execution_count": 11,
     "metadata": {},
     "output_type": "execute_result"
    }
   ],
   "source": [
    "train_pay_7_pay_45['pay_price'].describe()"
   ]
  },
  {
   "cell_type": "code",
   "execution_count": 12,
   "metadata": {},
   "outputs": [
    {
     "data": {
      "text/plain": [
       "count    11309.000000\n",
       "mean       315.963475\n",
       "std       1202.828424\n",
       "min          1.980000\n",
       "25%         16.940000\n",
       "50%         48.920000\n",
       "75%        163.760000\n",
       "max      32977.810000\n",
       "Name: prediction_pay_price, dtype: float64"
      ]
     },
     "execution_count": 12,
     "metadata": {},
     "output_type": "execute_result"
    }
   ],
   "source": [
    "train_pay_7_pay_45['prediction_pay_price'].describe()"
   ]
  },
  {
   "cell_type": "markdown",
   "metadata": {},
   "source": [
    "#### 4）前7天未付费玩家train_nopay_7"
   ]
  },
  {
   "cell_type": "code",
   "execution_count": 13,
   "metadata": {},
   "outputs": [
    {
     "name": "stdout",
     "output_type": "stream",
     "text": [
      "train_nopay_7 shape is:\n",
      "(2246568, 109)\n"
     ]
    }
   ],
   "source": [
    "train_nopay_7 = train[train['pay_price']==0]\n",
    "print('train_nopay_7 shape is:')\n",
    "print(train_nopay_7.shape)"
   ]
  },
  {
   "cell_type": "code",
   "execution_count": 14,
   "metadata": {},
   "outputs": [
    {
     "name": "stdout",
     "output_type": "stream",
     "text": [
      "train_nopay_7_pay_45 shape is:\n",
      "(4549, 109)\n"
     ]
    }
   ],
   "source": [
    "train_nopay_7_pay_45 = train_nopay_7[train_nopay_7['prediction_pay_price']>0]\n",
    "print('train_nopay_7_pay_45 shape is:')\n",
    "print(train_nopay_7_pay_45.shape)"
   ]
  },
  {
   "cell_type": "code",
   "execution_count": 15,
   "metadata": {},
   "outputs": [
    {
     "data": {
      "text/plain": [
       "count    2.246568e+06\n",
       "mean     8.270126e-02\n",
       "std      1.089864e+01\n",
       "min      0.000000e+00\n",
       "25%      0.000000e+00\n",
       "50%      0.000000e+00\n",
       "75%      0.000000e+00\n",
       "max      6.752970e+03\n",
       "Name: prediction_pay_price, dtype: float64"
      ]
     },
     "execution_count": 15,
     "metadata": {},
     "output_type": "execute_result"
    }
   ],
   "source": [
    "train_nopay_7['prediction_pay_price'].describe()"
   ]
  },
  {
   "cell_type": "markdown",
   "metadata": {},
   "source": [
    "上面其实将用户分为了几类，前7天付费的、前7天未付费的；前7天付费又可分为后面继续付费和后面不再付费；前7天未付费的又可进一步分为后面一直未付费和后面付费的。下面总结一下这些用户的占比及付费情况："
   ]
  },
  {
   "cell_type": "markdown",
   "metadata": {},
   "source": [
    "#### 5）前7天付费用户及未付费用户占比情况"
   ]
  },
  {
   "cell_type": "code",
   "execution_count": 16,
   "metadata": {},
   "outputs": [
    {
     "data": {
      "text/html": [
       "<div>\n",
       "<style scoped>\n",
       "    .dataframe tbody tr th:only-of-type {\n",
       "        vertical-align: middle;\n",
       "    }\n",
       "\n",
       "    .dataframe tbody tr th {\n",
       "        vertical-align: top;\n",
       "    }\n",
       "\n",
       "    .dataframe thead th {\n",
       "        text-align: right;\n",
       "    }\n",
       "</style>\n",
       "<table border=\"1\" class=\"dataframe\">\n",
       "  <thead>\n",
       "    <tr style=\"text-align: right;\">\n",
       "      <th></th>\n",
       "      <th>user_num</th>\n",
       "      <th>num_rate</th>\n",
       "      <th>pre_pay</th>\n",
       "      <th>pre_rate</th>\n",
       "    </tr>\n",
       "  </thead>\n",
       "  <tbody>\n",
       "    <tr>\n",
       "      <th>train_pay_7</th>\n",
       "      <td>41439</td>\n",
       "      <td>2%</td>\n",
       "      <td>3916936.0</td>\n",
       "      <td>95%</td>\n",
       "    </tr>\n",
       "    <tr>\n",
       "      <th>train_nopay_7</th>\n",
       "      <td>2246568</td>\n",
       "      <td>98%</td>\n",
       "      <td>185794.0</td>\n",
       "      <td>5%</td>\n",
       "    </tr>\n",
       "    <tr>\n",
       "      <th>train</th>\n",
       "      <td>2288007</td>\n",
       "      <td>1</td>\n",
       "      <td>4102730.0</td>\n",
       "      <td>1</td>\n",
       "    </tr>\n",
       "  </tbody>\n",
       "</table>\n",
       "</div>"
      ],
      "text/plain": [
       "               user_num num_rate    pre_pay pre_rate\n",
       "train_pay_7       41439       2%  3916936.0      95%\n",
       "train_nopay_7   2246568      98%   185794.0       5%\n",
       "train           2288007        1  4102730.0        1"
      ]
     },
     "execution_count": 16,
     "metadata": {},
     "output_type": "execute_result"
    }
   ],
   "source": [
    "train_pay_7_shape = train_pay_7.shape[0]\n",
    "train_nopay_7_shape = train_nopay_7.shape[0]\n",
    "train_shape = train.shape[0]\n",
    "train_pay_7_num_rate = train_pay_7_shape/train_shape\n",
    "train_pay_7_num_rate = \"%.0f%%\" % (train_pay_7_num_rate * 100)\n",
    "train_nopay_7_num_rate = train_nopay_7_shape/train_shape\n",
    "train_nopay_7_num_rate = \"%.0f%%\" % (train_nopay_7_num_rate * 100)\n",
    "\n",
    "train_pay_7_pre = round(train_pay_7['prediction_pay_price'].sum())\n",
    "train_nopay_7_pre = round(train_nopay_7['prediction_pay_price'].sum())\n",
    "train_pre = round(train['prediction_pay_price'].sum())\n",
    "train_pay_7_pre_rate = train_pay_7_pre/train_pre\n",
    "train_pay_7_pre_rate = \"%.0f%%\" % (train_pay_7_pre_rate * 100)\n",
    "train_nopay_7_pre_rate = train_nopay_7_pre/train_pre\n",
    "train_nopay_7_pre_rate = \"%.0f%%\" % (train_nopay_7_pre_rate * 100)\n",
    "data = {'user_num':{'train_pay_7':train_pay_7_shape,'train_nopay_7':train_nopay_7_shape,'train':train_shape},\n",
    "        'num_rate':{'train_pay_7':train_pay_7_num_rate,'train_nopay_7':train_nopay_7_num_rate,'train':1},\n",
    "        'pre_pay':{'train_pay_7':train_pay_7_pre,'train_nopay_7':train_nopay_7_pre,'train':train_pre},\n",
    "        'pre_rate':{'train_pay_7':train_pay_7_pre_rate,'train_nopay_7':train_nopay_7_pre_rate,'train':1},\n",
    "       }\n",
    "df = pd.DataFrame(data,columns=['user_num','num_rate','pre_pay','pre_rate'])\n",
    "df.sort_values(by=\"user_num\")"
   ]
  },
  {
   "cell_type": "markdown",
   "metadata": {},
   "source": [
    "上面可以看出前7天付费的用户只占总用户的2%，但是其付款总数占总付款数的95%！潜力巨大的一群人啊，付费核心人群"
   ]
  },
  {
   "cell_type": "markdown",
   "metadata": {},
   "source": [
    "#### 6）前7天付费用户细分及占比情况"
   ]
  },
  {
   "cell_type": "code",
   "execution_count": 17,
   "metadata": {},
   "outputs": [
    {
     "data": {
      "text/html": [
       "<div>\n",
       "<style scoped>\n",
       "    .dataframe tbody tr th:only-of-type {\n",
       "        vertical-align: middle;\n",
       "    }\n",
       "\n",
       "    .dataframe tbody tr th {\n",
       "        vertical-align: top;\n",
       "    }\n",
       "\n",
       "    .dataframe thead th {\n",
       "        text-align: right;\n",
       "    }\n",
       "</style>\n",
       "<table border=\"1\" class=\"dataframe\">\n",
       "  <thead>\n",
       "    <tr style=\"text-align: right;\">\n",
       "      <th></th>\n",
       "      <th>user_num</th>\n",
       "      <th>num_rate</th>\n",
       "      <th>pay_price</th>\n",
       "      <th>pay_rate</th>\n",
       "      <th>pre_pay</th>\n",
       "      <th>pre_rate</th>\n",
       "    </tr>\n",
       "  </thead>\n",
       "  <tbody>\n",
       "    <tr>\n",
       "      <th>train_pay_7_pay_45</th>\n",
       "      <td>11309</td>\n",
       "      <td>27%</td>\n",
       "      <td>879621.00</td>\n",
       "      <td>72%</td>\n",
       "      <td>3573231.0</td>\n",
       "      <td>91%</td>\n",
       "    </tr>\n",
       "    <tr>\n",
       "      <th>train_pay_7_nopay_45</th>\n",
       "      <td>30130</td>\n",
       "      <td>73%</td>\n",
       "      <td>343705.00</td>\n",
       "      <td>28%</td>\n",
       "      <td>343705.0</td>\n",
       "      <td>9%</td>\n",
       "    </tr>\n",
       "    <tr>\n",
       "      <th>train_pay_7</th>\n",
       "      <td>41439</td>\n",
       "      <td>1</td>\n",
       "      <td>1223326.66</td>\n",
       "      <td>1</td>\n",
       "      <td>3916936.0</td>\n",
       "      <td>1</td>\n",
       "    </tr>\n",
       "  </tbody>\n",
       "</table>\n",
       "</div>"
      ],
      "text/plain": [
       "                      user_num num_rate   pay_price pay_rate    pre_pay  \\\n",
       "train_pay_7_pay_45       11309      27%   879621.00      72%  3573231.0   \n",
       "train_pay_7_nopay_45     30130      73%   343705.00      28%   343705.0   \n",
       "train_pay_7              41439        1  1223326.66        1  3916936.0   \n",
       "\n",
       "                     pre_rate  \n",
       "train_pay_7_pay_45        91%  \n",
       "train_pay_7_nopay_45       9%  \n",
       "train_pay_7                 1  "
      ]
     },
     "execution_count": 17,
     "metadata": {},
     "output_type": "execute_result"
    }
   ],
   "source": [
    "train_pay_7_pay_45_shape = train_pay_7_pay_45.shape[0]\n",
    "train_pay_7_nopay_45_shape = train_pay_7_nopay_45.shape[0]\n",
    "train_pay_7_pay_45_rate = train_pay_7_pay_45_shape/train_pay_7_shape\n",
    "train_pay_7_pay_45_rate = \"%.0f%%\" % (train_pay_7_pay_45_rate * 100)\n",
    "train_pay_7_nopay_45_rate = train_pay_7_nopay_45_shape/train_pay_7_shape\n",
    "train_pay_7_nopay_45_rate = \"%.0f%%\" % (train_pay_7_nopay_45_rate * 100)\n",
    "\n",
    "train_pay_7_pay_45_pay = round(train_pay_7_pay_45['pay_price'].sum())\n",
    "train_pay_7_nopay_45_pay = round(train_pay_7_nopay_45['pay_price'].sum())\n",
    "train_pay_7_pay = train_pay_7['pay_price'].sum()\n",
    "train_pay_7_pay_45_pay_rate = train_pay_7_pay_45_pay/train_pay_7_pay\n",
    "train_pay_7_pay_45_pay_rate = \"%.0f%%\" % (train_pay_7_pay_45_pay_rate * 100)\n",
    "train_pay_7_nopay_45_pay_rate = train_pay_7_nopay_45_pay/train_pay_7_pay\n",
    "train_pay_7_nopay_45_pay_rate = \"%.0f%%\" % (train_pay_7_nopay_45_pay_rate * 100)\n",
    "\n",
    "\n",
    "train_pay_7_pay_45_pre = round(train_pay_7_pay_45['prediction_pay_price'].sum())\n",
    "train_pay_7_nopay_45_pre = round(train_pay_7_nopay_45['prediction_pay_price'].sum())\n",
    "train_pay_7_pay_45_pre_rate = train_pay_7_pay_45_pre/train_pay_7_pre\n",
    "train_pay_7_pay_45_pre_rate = \"%.0f%%\" % (train_pay_7_pay_45_pre_rate * 100)\n",
    "train_pay_7_nopay_45_pre_rate = train_pay_7_nopay_45_pre/train_pay_7_pre\n",
    "train_pay_7_nopay_45_pre_rate = \"%.0f%%\" % (train_pay_7_nopay_45_pre_rate * 100)\n",
    "\n",
    "\n",
    "data = {'user_num':{'train_pay_7_pay_45':train_pay_7_pay_45_shape,'train_pay_7_nopay_45':train_pay_7_nopay_45_shape,'train_pay_7':train_pay_7_shape},\n",
    "        'num_rate':{'train_pay_7_pay_45':train_pay_7_pay_45_rate,'train_pay_7_nopay_45':train_pay_7_nopay_45_rate,'train_pay_7':1},\n",
    "        'pay_price':{'train_pay_7_pay_45':train_pay_7_pay_45_pay,'train_pay_7_nopay_45':train_pay_7_nopay_45_pay,'train_pay_7':train_pay_7_pay},\n",
    "        'pay_rate':{'train_pay_7_pay_45':train_pay_7_pay_45_pay_rate,'train_pay_7_nopay_45':train_pay_7_nopay_45_pay_rate,'train_pay_7':1},\n",
    "        'pre_pay':{'train_pay_7_pay_45':train_pay_7_pay_45_pre,'train_pay_7_nopay_45':train_pay_7_nopay_45_pre,'train_pay_7':train_pay_7_pre},\n",
    "        'pre_rate':{'train_pay_7_pay_45':train_pay_7_pay_45_pre_rate,'train_pay_7_nopay_45':train_pay_7_nopay_45_pre_rate,'train_pay_7':1},\n",
    "       }\n",
    "df = pd.DataFrame(data,columns=['user_num','num_rate','pay_price','pay_rate','pre_pay','pre_rate'])\n",
    "df.sort_values(by=\"user_num\")"
   ]
  },
  {
   "cell_type": "markdown",
   "metadata": {},
   "source": [
    "上面可以看出只有27%的人会继续付款，但是付款总数占前7天付费用户付款总数的91%！前7天付费后面继续付费的用户是重中之中有木有！"
   ]
  },
  {
   "attachments": {},
   "cell_type": "markdown",
   "metadata": {},
   "source": [
    "![image.png](https://github.com/cyariel/pay_price/blob/master/fig/1.png)"
   ]
  },
  {
   "cell_type": "markdown",
   "metadata": {},
   "source": [
    "【总结】\n",
    "1. 选出前7天付费用户\n",
    "2. 对前7天用户分类，分成后面继续付费和后面不再付费两部分\n",
    "3. 对继续付费的部分进行回归，得到这部分人的总付费\n",
    "4. 前7天未付费的部分由于很少可以考虑放弃"
   ]
  },
  {
   "cell_type": "markdown",
   "metadata": {},
   "source": [
    "### 3. avg_online_minutes分析"
   ]
  },
  {
   "cell_type": "code",
   "execution_count": 18,
   "metadata": {},
   "outputs": [
    {
     "data": {
      "text/plain": [
       "False"
      ]
     },
     "execution_count": 18,
     "metadata": {},
     "output_type": "execute_result"
    }
   ],
   "source": [
    "#查看是否有缺失值\n",
    "train_pay_7['avg_online_minutes'].count()!=train_pay_7.shape[0]"
   ]
  },
  {
   "cell_type": "code",
   "execution_count": 19,
   "metadata": {},
   "outputs": [
    {
     "name": "stderr",
     "output_type": "stream",
     "text": [
      "/Users/cy_ariel/anaconda3/lib/python3.7/site-packages/scipy/stats/stats.py:1713: FutureWarning: Using a non-tuple sequence for multidimensional indexing is deprecated; use `arr[tuple(seq)]` instead of `arr[seq]`. In the future this will be interpreted as an array index, `arr[np.array(seq)]`, which will result either in an error or a different result.\n",
      "  return np.add.reduce(sorted[indexer] * weights, axis=axis) / sumval\n"
     ]
    },
    {
     "data": {
      "image/png": "[encoded data removed]",
      "text/plain": [
       "<Figure size 1440x360 with 3 Axes>"
      ]
     },
     "metadata": {
      "needs_background": "light"
     },
     "output_type": "display_data"
    }
   ],
   "source": [
    "fig, (axis1,axis2,axis3) = plt.subplots(1,3,figsize=(20,5))\n",
    "sns.distplot(train_pay_7['avg_online_minutes'],ax=axis1)\n",
    "sns.distplot(train_pay_7_pay_45['avg_online_minutes'],ax=axis2)\n",
    "sns.distplot(train_pay_7_nopay_45['avg_online_minutes'],ax=axis3)\n",
    "plt.show()"
   ]
  },
  {
   "cell_type": "code",
   "execution_count": 20,
   "metadata": {},
   "outputs": [
    {
     "data": {
      "text/plain": [
       "3169"
      ]
     },
     "execution_count": 20,
     "metadata": {},
     "output_type": "execute_result"
    }
   ],
   "source": [
    "train_pay_7['avg_online_minutes'][train_pay_7['avg_online_minutes']<10].count()"
   ]
  },
  {
   "cell_type": "code",
   "execution_count": 21,
   "metadata": {},
   "outputs": [
    {
     "data": {
      "text/plain": [
       "59"
      ]
     },
     "execution_count": 21,
     "metadata": {},
     "output_type": "execute_result"
    }
   ],
   "source": [
    "train_pay_7_pay_45['avg_online_minutes'][train_pay_7_pay_45['avg_online_minutes']<10].count()"
   ]
  },
  {
   "cell_type": "code",
   "execution_count": 22,
   "metadata": {},
   "outputs": [
    {
     "data": {
      "text/plain": [
       "3110"
      ]
     },
     "execution_count": 22,
     "metadata": {},
     "output_type": "execute_result"
    }
   ],
   "source": [
    "train_pay_7_nopay_45['avg_online_minutes'][train_pay_7_nopay_45['avg_online_minutes']<10].count()"
   ]
  },
  {
   "cell_type": "code",
   "execution_count": 23,
   "metadata": {},
   "outputs": [
    {
     "data": {
      "text/plain": [
       "count    41439.000000\n",
       "mean       140.187746\n",
       "std        149.972913\n",
       "min          0.000000\n",
       "25%         33.000000\n",
       "50%         88.833333\n",
       "75%        194.666667\n",
       "max       1674.666667\n",
       "Name: avg_online_minutes, dtype: float64"
      ]
     },
     "execution_count": 23,
     "metadata": {},
     "output_type": "execute_result"
    }
   ],
   "source": [
    "train_pay_7['avg_online_minutes'].describe()"
   ]
  },
  {
   "cell_type": "code",
   "execution_count": 24,
   "metadata": {},
   "outputs": [
    {
     "data": {
      "text/plain": [
       "count    11309.000000\n",
       "mean       245.507826\n",
       "std        180.424647\n",
       "min          0.666667\n",
       "25%        109.666667\n",
       "50%        200.500000\n",
       "75%        339.833333\n",
       "max       1674.666667\n",
       "Name: avg_online_minutes, dtype: float64"
      ]
     },
     "execution_count": 24,
     "metadata": {},
     "output_type": "execute_result"
    }
   ],
   "source": [
    "train_pay_7_pay_45['avg_online_minutes'].describe()"
   ]
  },
  {
   "cell_type": "code",
   "execution_count": 25,
   "metadata": {},
   "outputs": [
    {
     "data": {
      "text/plain": [
       "count    30130.000000\n",
       "mean       100.656887\n",
       "std        113.974528\n",
       "min          0.000000\n",
       "25%         23.333333\n",
       "50%         61.166667\n",
       "75%        137.166667\n",
       "max       1394.666667\n",
       "Name: avg_online_minutes, dtype: float64"
      ]
     },
     "execution_count": 25,
     "metadata": {},
     "output_type": "execute_result"
    }
   ],
   "source": [
    "train_pay_7_nopay_45['avg_online_minutes'].describe()"
   ]
  },
  {
   "cell_type": "markdown",
   "metadata": {},
   "source": [
    "上图看出在线时长是影响是否继续付费的重要变量"
   ]
  },
  {
   "cell_type": "markdown",
   "metadata": {},
   "source": [
    "### 4. pay_count分析"
   ]
  },
  {
   "cell_type": "code",
   "execution_count": 26,
   "metadata": {},
   "outputs": [
    {
     "data": {
      "text/plain": [
       "True"
      ]
     },
     "execution_count": 26,
     "metadata": {},
     "output_type": "execute_result"
    }
   ],
   "source": [
    "train_pay_7['pay_count'].count()==train_pay_7.shape[0]"
   ]
  },
  {
   "cell_type": "code",
   "execution_count": 27,
   "metadata": {},
   "outputs": [
    {
     "data": {
      "text/plain": [
       "count    41439.000000\n",
       "mean         3.186226\n",
       "std          4.218311\n",
       "min          1.000000\n",
       "25%          1.000000\n",
       "50%          2.000000\n",
       "75%          4.000000\n",
       "max        105.000000\n",
       "Name: pay_count, dtype: float64"
      ]
     },
     "execution_count": 27,
     "metadata": {},
     "output_type": "execute_result"
    }
   ],
   "source": [
    "train_pay_7['pay_count'].describe()"
   ]
  },
  {
   "cell_type": "code",
   "execution_count": 28,
   "metadata": {},
   "outputs": [
    {
     "data": {
      "text/plain": [
       "count    11309.000000\n",
       "mean         5.707932\n",
       "std          6.470337\n",
       "min          1.000000\n",
       "25%          2.000000\n",
       "50%          4.000000\n",
       "75%          7.000000\n",
       "max        105.000000\n",
       "Name: pay_count, dtype: float64"
      ]
     },
     "execution_count": 28,
     "metadata": {},
     "output_type": "execute_result"
    }
   ],
   "source": [
    "train_pay_7_pay_45['pay_count'].describe()"
   ]
  },
  {
   "cell_type": "code",
   "execution_count": 29,
   "metadata": {},
   "outputs": [
    {
     "data": {
      "text/plain": [
       "count    30130.000000\n",
       "mean         2.239728\n",
       "std          2.340433\n",
       "min          1.000000\n",
       "25%          1.000000\n",
       "50%          1.000000\n",
       "75%          3.000000\n",
       "max         54.000000\n",
       "Name: pay_count, dtype: float64"
      ]
     },
     "execution_count": 29,
     "metadata": {},
     "output_type": "execute_result"
    }
   ],
   "source": [
    "train_pay_7_nopay_45['pay_count'].describe()"
   ]
  },
  {
   "cell_type": "code",
   "execution_count": 30,
   "metadata": {},
   "outputs": [
    {
     "data": {
      "text/plain": [
       "2019"
      ]
     },
     "execution_count": 30,
     "metadata": {},
     "output_type": "execute_result"
    }
   ],
   "source": [
    "train_pay_7_pay_45[train_pay_7_pay_45['pay_count']==1]['pay_count'].count()"
   ]
  },
  {
   "cell_type": "code",
   "execution_count": 31,
   "metadata": {},
   "outputs": [
    {
     "data": {
      "text/plain": [
       "15603"
      ]
     },
     "execution_count": 31,
     "metadata": {},
     "output_type": "execute_result"
    }
   ],
   "source": [
    "train_pay_7_nopay_45[train_pay_7_nopay_45['pay_count']==1]['pay_count'].count()"
   ]
  },
  {
   "cell_type": "code",
   "execution_count": 32,
   "metadata": {},
   "outputs": [
    {
     "data": {
      "text/plain": [
       "17622"
      ]
     },
     "execution_count": 32,
     "metadata": {},
     "output_type": "execute_result"
    }
   ],
   "source": [
    "train_pay_7[train_pay_7['pay_count']==1]['pay_count'].count()"
   ]
  },
  {
   "attachments": {},
   "cell_type": "markdown",
   "metadata": {
    "collapsed": true
   },
   "source": [
    "![image.png](https://github.com/cyariel/pay_price/blob/master/fig/2.png)"
   ]
  },
  {
   "cell_type": "markdown",
   "metadata": {},
   "source": [
    "前7天只付款一次的用户中90%后面不再继续付费"
   ]
  },
  {
   "cell_type": "markdown",
   "metadata": {},
   "source": [
    "### 5. register_time"
   ]
  },
  {
   "cell_type": "code",
   "execution_count": 34,
   "metadata": {},
   "outputs": [],
   "source": [
    "#格式2018-02-02 19:47:15\n",
    "train['register_time_month'] = train['register_time'].str[:7]\n",
    "train['register_time_day'] = train['register_time'].str[6:10]\n",
    "train_month_df = pd.DataFrame(train['register_time_month'].value_counts()).sort_index()\n",
    "train_day_df = pd.DataFrame(train['register_time_day'].value_counts()).sort_index()"
   ]
  },
  {
   "cell_type": "code",
   "execution_count": 35,
   "metadata": {},
   "outputs": [
    {
     "data": {
      "text/html": [
       "<div>\n",
       "<style scoped>\n",
       "    .dataframe tbody tr th:only-of-type {\n",
       "        vertical-align: middle;\n",
       "    }\n",
       "\n",
       "    .dataframe tbody tr th {\n",
       "        vertical-align: top;\n",
       "    }\n",
       "\n",
       "    .dataframe thead th {\n",
       "        text-align: right;\n",
       "    }\n",
       "</style>\n",
       "<table border=\"1\" class=\"dataframe\">\n",
       "  <thead>\n",
       "    <tr style=\"text-align: right;\">\n",
       "      <th></th>\n",
       "      <th>register_time_month</th>\n",
       "    </tr>\n",
       "  </thead>\n",
       "  <tbody>\n",
       "    <tr>\n",
       "      <th>2018-01</th>\n",
       "      <td>390420</td>\n",
       "    </tr>\n",
       "    <tr>\n",
       "      <th>2018-02</th>\n",
       "      <td>1632463</td>\n",
       "    </tr>\n",
       "    <tr>\n",
       "      <th>2018-03</th>\n",
       "      <td>265124</td>\n",
       "    </tr>\n",
       "  </tbody>\n",
       "</table>\n",
       "</div>"
      ],
      "text/plain": [
       "         register_time_month\n",
       "2018-01               390420\n",
       "2018-02              1632463\n",
       "2018-03               265124"
      ]
     },
     "execution_count": 35,
     "metadata": {},
     "output_type": "execute_result"
    }
   ],
   "source": [
    "train_month_df"
   ]
  },
  {
   "cell_type": "code",
   "execution_count": 37,
   "metadata": {},
   "outputs": [
    {
     "data": {
      "text/html": [
       "<div>\n",
       "<style scoped>\n",
       "    .dataframe tbody tr th:only-of-type {\n",
       "        vertical-align: middle;\n",
       "    }\n",
       "\n",
       "    .dataframe tbody tr th {\n",
       "        vertical-align: top;\n",
       "    }\n",
       "\n",
       "    .dataframe thead th {\n",
       "        text-align: right;\n",
       "    }\n",
       "</style>\n",
       "<table border=\"1\" class=\"dataframe\">\n",
       "  <thead>\n",
       "    <tr style=\"text-align: right;\">\n",
       "      <th></th>\n",
       "      <th>register_time_day</th>\n",
       "    </tr>\n",
       "  </thead>\n",
       "  <tbody>\n",
       "    <tr>\n",
       "      <th>1-26</th>\n",
       "      <td>70250</td>\n",
       "    </tr>\n",
       "    <tr>\n",
       "      <th>1-27</th>\n",
       "      <td>70417</td>\n",
       "    </tr>\n",
       "    <tr>\n",
       "      <th>1-28</th>\n",
       "      <td>79227</td>\n",
       "    </tr>\n",
       "    <tr>\n",
       "      <th>1-29</th>\n",
       "      <td>63803</td>\n",
       "    </tr>\n",
       "    <tr>\n",
       "      <th>1-30</th>\n",
       "      <td>50201</td>\n",
       "    </tr>\n",
       "  </tbody>\n",
       "</table>\n",
       "</div>"
      ],
      "text/plain": [
       "      register_time_day\n",
       "1-26              70250\n",
       "1-27              70417\n",
       "1-28              79227\n",
       "1-29              63803\n",
       "1-30              50201"
      ]
     },
     "execution_count": 37,
     "metadata": {},
     "output_type": "execute_result"
    }
   ],
   "source": [
    "train_day_df.head()"
   ]
  },
  {
   "cell_type": "code",
   "execution_count": 38,
   "metadata": {},
   "outputs": [
    {
     "name": "stderr",
     "output_type": "stream",
     "text": [
      "ERROR:lml.utils:failed to import pyecharts_snapshot\n",
      "Traceback (most recent call last):\n",
      "  File \"/Users/cy_ariel/anaconda3/lib/python3.7/site-packages/lml/utils.py\", line 43, in do_import\n",
      "    plugin_module = __import__(plugin_module_name)\n",
      "ModuleNotFoundError: No module named 'pyecharts_snapshot'\n"
     ]
    },
    {
     "data": {
      "text/html": [
       "<script>\n",
       "    require.config({\n",
       "        paths: {\n",
       "            'echarts': '/nbextensions/echarts/echarts.min'\n",
       "        }\n",
       "    });\n",
       "</script>\n",
       "    <div id=\"483cfd4625a4471bbfcaae6179cc3b18\" style=\"width:800px;height:400px;\"></div>\n",
       "\n",
       "\n",
       "<script>\n",
       "    require(['echarts'], function(echarts) {\n",
       "        \n",
       "var myChart_483cfd4625a4471bbfcaae6179cc3b18 = echarts.init(document.getElementById('483cfd4625a4471bbfcaae6179cc3b18'), 'dark', {renderer: 'canvas'});\n",
       "\n",
       "var option_483cfd4625a4471bbfcaae6179cc3b18 = {\n",
       "    \"title\": [\n",
       "        {\n",
       "            \"text\": \"\\u7528\\u6237\\u6570\\u7edf\\u8ba1-\\u6708\",\n",
       "            \"left\": \"auto\",\n",
       "            \"top\": \"auto\",\n",
       "            \"textStyle\": {\n",
       "                \"fontSize\": 18\n",
       "            },\n",
       "            \"subtextStyle\": {\n",
       "                \"fontSize\": 12\n",
       "            }\n",
       "        }\n",
       "    ],\n",
       "    \"toolbox\": {\n",
       "        \"show\": true,\n",
       "        \"orient\": \"vertical\",\n",
       "        \"left\": \"95%\",\n",
       "        \"top\": \"center\",\n",
       "        \"feature\": {\n",
       "            \"saveAsImage\": {\n",
       "                \"show\": true,\n",
       "                \"title\": \"save as image\"\n",
       "            },\n",
       "            \"restore\": {\n",
       "                \"show\": true,\n",
       "                \"title\": \"restore\"\n",
       "            },\n",
       "            \"dataView\": {\n",
       "                \"show\": true,\n",
       "                \"title\": \"data view\"\n",
       "            }\n",
       "        }\n",
       "    },\n",
       "    \"series_id\": 5080733,\n",
       "    \"tooltip\": {\n",
       "        \"trigger\": \"item\",\n",
       "        \"triggerOn\": \"mousemove|click\",\n",
       "        \"axisPointer\": {\n",
       "            \"type\": \"line\"\n",
       "        },\n",
       "        \"textStyle\": {\n",
       "            \"fontSize\": 14\n",
       "        },\n",
       "        \"backgroundColor\": \"rgba(50,50,50,0.7)\",\n",
       "        \"borderColor\": \"#333\",\n",
       "        \"borderWidth\": 0\n",
       "    },\n",
       "    \"series\": [\n",
       "        {\n",
       "            \"type\": \"line\",\n",
       "            \"name\": \"\\u7528\\u6237\\u6570\",\n",
       "            \"symbol\": \"emptyCircle\",\n",
       "            \"symbolSize\": 4,\n",
       "            \"smooth\": false,\n",
       "            \"step\": false,\n",
       "            \"showSymbol\": true,\n",
       "            \"data\": [\n",
       "                [\n",
       "                    \"2018-01\",\n",
       "                    390420\n",
       "                ],\n",
       "                [\n",
       "                    \"2018-02\",\n",
       "                    1632463\n",
       "                ],\n",
       "                [\n",
       "                    \"2018-03\",\n",
       "                    265124\n",
       "                ]\n",
       "            ],\n",
       "            \"label\": {\n",
       "                \"normal\": {\n",
       "                    \"show\": false,\n",
       "                    \"position\": \"top\",\n",
       "                    \"textStyle\": {\n",
       "                        \"fontSize\": 12\n",
       "                    }\n",
       "                },\n",
       "                \"emphasis\": {\n",
       "                    \"show\": true,\n",
       "                    \"textStyle\": {\n",
       "                        \"fontSize\": 12\n",
       "                    }\n",
       "                }\n",
       "            },\n",
       "            \"lineStyle\": {\n",
       "                \"normal\": {\n",
       "                    \"width\": 1,\n",
       "                    \"opacity\": 1,\n",
       "                    \"curveness\": 0,\n",
       "                    \"type\": \"solid\"\n",
       "                }\n",
       "            },\n",
       "            \"areaStyle\": {\n",
       "                \"opacity\": 0\n",
       "            },\n",
       "            \"markPoint\": {\n",
       "                \"data\": [\n",
       "                    {\n",
       "                        \"type\": \"max\",\n",
       "                        \"name\": \"Maximum\",\n",
       "                        \"symbol\": \"pin\",\n",
       "                        \"symbolSize\": 50,\n",
       "                        \"label\": {\n",
       "                            \"normal\": {\n",
       "                                \"textStyle\": {\n",
       "                                    \"color\": \"#fff\"\n",
       "                                }\n",
       "                            }\n",
       "                        }\n",
       "                    },\n",
       "                    {\n",
       "                        \"type\": \"min\",\n",
       "                        \"name\": \"Minimum\",\n",
       "                        \"symbol\": \"pin\",\n",
       "                        \"symbolSize\": 50,\n",
       "                        \"label\": {\n",
       "                            \"normal\": {\n",
       "                                \"textStyle\": {\n",
       "                                    \"color\": \"#fff\"\n",
       "                                }\n",
       "                            }\n",
       "                        }\n",
       "                    }\n",
       "                ]\n",
       "            },\n",
       "            \"markLine\": {\n",
       "                \"data\": [\n",
       "                    {\n",
       "                        \"type\": \"average\",\n",
       "                        \"name\": \"mean-Value\"\n",
       "                    }\n",
       "                ],\n",
       "                \"symbolSize\": 10\n",
       "            },\n",
       "            \"seriesId\": 5080733\n",
       "        }\n",
       "    ],\n",
       "    \"legend\": [\n",
       "        {\n",
       "            \"data\": [\n",
       "                \"\\u7528\\u6237\\u6570\"\n",
       "            ],\n",
       "            \"selectedMode\": \"multiple\",\n",
       "            \"show\": true,\n",
       "            \"left\": \"center\",\n",
       "            \"top\": \"top\",\n",
       "            \"orient\": \"horizontal\",\n",
       "            \"textStyle\": {\n",
       "                \"fontSize\": 12\n",
       "            }\n",
       "        }\n",
       "    ],\n",
       "    \"animation\": true,\n",
       "    \"xAxis\": [\n",
       "        {\n",
       "            \"show\": true,\n",
       "            \"nameLocation\": \"middle\",\n",
       "            \"nameGap\": 25,\n",
       "            \"nameTextStyle\": {\n",
       "                \"fontSize\": 14\n",
       "            },\n",
       "            \"axisTick\": {\n",
       "                \"alignWithLabel\": false\n",
       "            },\n",
       "            \"inverse\": false,\n",
       "            \"boundaryGap\": true,\n",
       "            \"type\": \"category\",\n",
       "            \"splitLine\": {\n",
       "                \"show\": false\n",
       "            },\n",
       "            \"axisLine\": {\n",
       "                \"lineStyle\": {\n",
       "                    \"width\": 1\n",
       "                }\n",
       "            },\n",
       "            \"axisLabel\": {\n",
       "                \"interval\": \"auto\",\n",
       "                \"rotate\": 0,\n",
       "                \"margin\": 8,\n",
       "                \"textStyle\": {\n",
       "                    \"fontSize\": 12\n",
       "                }\n",
       "            },\n",
       "            \"data\": [\n",
       "                \"2018-01\",\n",
       "                \"2018-02\",\n",
       "                \"2018-03\"\n",
       "            ]\n",
       "        }\n",
       "    ],\n",
       "    \"yAxis\": [\n",
       "        {\n",
       "            \"show\": true,\n",
       "            \"nameLocation\": \"middle\",\n",
       "            \"nameGap\": 25,\n",
       "            \"nameTextStyle\": {\n",
       "                \"fontSize\": 14\n",
       "            },\n",
       "            \"axisTick\": {\n",
       "                \"alignWithLabel\": false\n",
       "            },\n",
       "            \"inverse\": false,\n",
       "            \"boundaryGap\": true,\n",
       "            \"type\": \"value\",\n",
       "            \"splitLine\": {\n",
       "                \"show\": true\n",
       "            },\n",
       "            \"axisLine\": {\n",
       "                \"lineStyle\": {\n",
       "                    \"width\": 1\n",
       "                }\n",
       "            },\n",
       "            \"axisLabel\": {\n",
       "                \"interval\": \"auto\",\n",
       "                \"formatter\": \"{value} \",\n",
       "                \"rotate\": 0,\n",
       "                \"margin\": 8,\n",
       "                \"textStyle\": {\n",
       "                    \"fontSize\": 12\n",
       "                }\n",
       "            }\n",
       "        }\n",
       "    ],\n",
       "    \"color\": []\n",
       "};\n",
       "myChart_483cfd4625a4471bbfcaae6179cc3b18.setOption(option_483cfd4625a4471bbfcaae6179cc3b18);\n",
       "\n",
       "    });\n",
       "</script>\n"
      ],
      "text/plain": [
       "<pyecharts.charts.line.Line at 0x1a4452b0b8>"
      ]
     },
     "execution_count": 38,
     "metadata": {},
     "output_type": "execute_result"
    }
   ],
   "source": [
    "from pyecharts import Line\n",
    "line1 = Line('用户数统计-月')\n",
    "line1.use_theme('dark')\n",
    "line1.add('用户数',train_month_df.index,train_month_df['register_time_month'],mark_line=[\"average\"], mark_point=[\"max\", \"min\"])"
   ]
  },
  {
   "cell_type": "markdown",
   "metadata": {},
   "source": [
    "![image.png](https://github.com/cyariel/pay_price/blob/master/fig/%E7%94%A8%E6%88%B7%E6%95%B0%E7%BB%9F%E8%AE%A1-%E6%9C%88.png)"
   ]
  },
  {
   "cell_type": "code",
   "execution_count": 39,
   "metadata": {},
   "outputs": [
    {
     "data": {
      "text/html": [
       "<script>\n",
       "    require.config({\n",
       "        paths: {\n",
       "            'echarts': '/nbextensions/echarts/echarts.min'\n",
       "        }\n",
       "    });\n",
       "</script>\n",
       "    <div id=\"186bef044c714b59b1f175db7d18950b\" style=\"width:800px;height:400px;\"></div>\n",
       "\n",
       "\n",
       "<script>\n",
       "    require(['echarts'], function(echarts) {\n",
       "        \n",
       "var myChart_186bef044c714b59b1f175db7d18950b = echarts.init(document.getElementById('186bef044c714b59b1f175db7d18950b'), 'dark', {renderer: 'canvas'});\n",
       "\n",
       "var option_186bef044c714b59b1f175db7d18950b = {\n",
       "    \"title\": [\n",
       "        {\n",
       "            \"text\": \"\\u7528\\u6237\\u6570\\u7edf\\u8ba1-\\u5929\",\n",
       "            \"left\": \"auto\",\n",
       "            \"top\": \"auto\",\n",
       "            \"textStyle\": {\n",
       "                \"fontSize\": 18\n",
       "            },\n",
       "            \"subtextStyle\": {\n",
       "                \"fontSize\": 12\n",
       "            }\n",
       "        }\n",
       "    ],\n",
       "    \"toolbox\": {\n",
       "        \"show\": true,\n",
       "        \"orient\": \"vertical\",\n",
       "        \"left\": \"95%\",\n",
       "        \"top\": \"center\",\n",
       "        \"feature\": {\n",
       "            \"saveAsImage\": {\n",
       "                \"show\": true,\n",
       "                \"title\": \"save as image\"\n",
       "            },\n",
       "            \"restore\": {\n",
       "                \"show\": true,\n",
       "                \"title\": \"restore\"\n",
       "            },\n",
       "            \"dataView\": {\n",
       "                \"show\": true,\n",
       "                \"title\": \"data view\"\n",
       "            }\n",
       "        }\n",
       "    },\n",
       "    \"series_id\": 8851524,\n",
       "    \"tooltip\": {\n",
       "        \"trigger\": \"item\",\n",
       "        \"triggerOn\": \"mousemove|click\",\n",
       "        \"axisPointer\": {\n",
       "            \"type\": \"line\"\n",
       "        },\n",
       "        \"textStyle\": {\n",
       "            \"fontSize\": 14\n",
       "        },\n",
       "        \"backgroundColor\": \"rgba(50,50,50,0.7)\",\n",
       "        \"borderColor\": \"#333\",\n",
       "        \"borderWidth\": 0\n",
       "    },\n",
       "    \"series\": [\n",
       "        {\n",
       "            \"type\": \"line\",\n",
       "            \"name\": \"\\u7528\\u6237\\u6570\",\n",
       "            \"symbol\": \"emptyCircle\",\n",
       "            \"symbolSize\": 4,\n",
       "            \"smooth\": false,\n",
       "            \"step\": false,\n",
       "            \"showSymbol\": true,\n",
       "            \"data\": [\n",
       "                [\n",
       "                    \"1-26\",\n",
       "                    70250\n",
       "                ],\n",
       "                [\n",
       "                    \"1-27\",\n",
       "                    70417\n",
       "                ],\n",
       "                [\n",
       "                    \"1-28\",\n",
       "                    79227\n",
       "                ],\n",
       "                [\n",
       "                    \"1-29\",\n",
       "                    63803\n",
       "                ],\n",
       "                [\n",
       "                    \"1-30\",\n",
       "                    50201\n",
       "                ],\n",
       "                [\n",
       "                    \"1-31\",\n",
       "                    56522\n",
       "                ],\n",
       "                [\n",
       "                    \"2-01\",\n",
       "                    83245\n",
       "                ],\n",
       "                [\n",
       "                    \"2-02\",\n",
       "                    60173\n",
       "                ],\n",
       "                [\n",
       "                    \"2-03\",\n",
       "                    51659\n",
       "                ],\n",
       "                [\n",
       "                    \"2-04\",\n",
       "                    60421\n",
       "                ],\n",
       "                [\n",
       "                    \"2-05\",\n",
       "                    60998\n",
       "                ],\n",
       "                [\n",
       "                    \"2-06\",\n",
       "                    57203\n",
       "                ],\n",
       "                [\n",
       "                    \"2-07\",\n",
       "                    71576\n",
       "                ],\n",
       "                [\n",
       "                    \"2-08\",\n",
       "                    72402\n",
       "                ],\n",
       "                [\n",
       "                    \"2-09\",\n",
       "                    50143\n",
       "                ],\n",
       "                [\n",
       "                    \"2-10\",\n",
       "                    53521\n",
       "                ],\n",
       "                [\n",
       "                    \"2-11\",\n",
       "                    54014\n",
       "                ],\n",
       "                [\n",
       "                    \"2-12\",\n",
       "                    52231\n",
       "                ],\n",
       "                [\n",
       "                    \"2-13\",\n",
       "                    50638\n",
       "                ],\n",
       "                [\n",
       "                    \"2-14\",\n",
       "                    54419\n",
       "                ],\n",
       "                [\n",
       "                    \"2-15\",\n",
       "                    78707\n",
       "                ],\n",
       "                [\n",
       "                    \"2-16\",\n",
       "                    56355\n",
       "                ],\n",
       "                [\n",
       "                    \"2-17\",\n",
       "                    44477\n",
       "                ],\n",
       "                [\n",
       "                    \"2-18\",\n",
       "                    59447\n",
       "                ],\n",
       "                [\n",
       "                    \"2-19\",\n",
       "                    117311\n",
       "                ],\n",
       "                [\n",
       "                    \"2-20\",\n",
       "                    92860\n",
       "                ],\n",
       "                [\n",
       "                    \"2-21\",\n",
       "                    43720\n",
       "                ],\n",
       "                [\n",
       "                    \"2-22\",\n",
       "                    42110\n",
       "                ],\n",
       "                [\n",
       "                    \"2-23\",\n",
       "                    44635\n",
       "                ],\n",
       "                [\n",
       "                    \"2-24\",\n",
       "                    45648\n",
       "                ],\n",
       "                [\n",
       "                    \"2-25\",\n",
       "                    49835\n",
       "                ],\n",
       "                [\n",
       "                    \"2-26\",\n",
       "                    42647\n",
       "                ],\n",
       "                [\n",
       "                    \"2-27\",\n",
       "                    39140\n",
       "                ],\n",
       "                [\n",
       "                    \"2-28\",\n",
       "                    42928\n",
       "                ],\n",
       "                [\n",
       "                    \"3-01\",\n",
       "                    36226\n",
       "                ],\n",
       "                [\n",
       "                    \"3-02\",\n",
       "                    42775\n",
       "                ],\n",
       "                [\n",
       "                    \"3-03\",\n",
       "                    48970\n",
       "                ],\n",
       "                [\n",
       "                    \"3-04\",\n",
       "                    50989\n",
       "                ],\n",
       "                [\n",
       "                    \"3-05\",\n",
       "                    44726\n",
       "                ],\n",
       "                [\n",
       "                    \"3-06\",\n",
       "                    41438\n",
       "                ]\n",
       "            ],\n",
       "            \"label\": {\n",
       "                \"normal\": {\n",
       "                    \"show\": false,\n",
       "                    \"position\": \"top\",\n",
       "                    \"textStyle\": {\n",
       "                        \"fontSize\": 12\n",
       "                    }\n",
       "                },\n",
       "                \"emphasis\": {\n",
       "                    \"show\": true,\n",
       "                    \"textStyle\": {\n",
       "                        \"fontSize\": 12\n",
       "                    }\n",
       "                }\n",
       "            },\n",
       "            \"lineStyle\": {\n",
       "                \"normal\": {\n",
       "                    \"width\": 1,\n",
       "                    \"opacity\": 1,\n",
       "                    \"curveness\": 0,\n",
       "                    \"type\": \"solid\"\n",
       "                }\n",
       "            },\n",
       "            \"areaStyle\": {\n",
       "                \"opacity\": 0\n",
       "            },\n",
       "            \"markPoint\": {\n",
       "                \"data\": [\n",
       "                    {\n",
       "                        \"type\": \"max\",\n",
       "                        \"name\": \"Maximum\",\n",
       "                        \"symbol\": \"pin\",\n",
       "                        \"symbolSize\": 50,\n",
       "                        \"label\": {\n",
       "                            \"normal\": {\n",
       "                                \"textStyle\": {\n",
       "                                    \"color\": \"#fff\"\n",
       "                                }\n",
       "                            }\n",
       "                        }\n",
       "                    },\n",
       "                    {\n",
       "                        \"type\": \"min\",\n",
       "                        \"name\": \"Minimum\",\n",
       "                        \"symbol\": \"pin\",\n",
       "                        \"symbolSize\": 50,\n",
       "                        \"label\": {\n",
       "                            \"normal\": {\n",
       "                                \"textStyle\": {\n",
       "                                    \"color\": \"#fff\"\n",
       "                                }\n",
       "                            }\n",
       "                        }\n",
       "                    }\n",
       "                ]\n",
       "            },\n",
       "            \"markLine\": {\n",
       "                \"data\": [\n",
       "                    {\n",
       "                        \"type\": \"average\",\n",
       "                        \"name\": \"mean-Value\"\n",
       "                    }\n",
       "                ],\n",
       "                \"symbolSize\": 10\n",
       "            },\n",
       "            \"seriesId\": 8851524\n",
       "        }\n",
       "    ],\n",
       "    \"legend\": [\n",
       "        {\n",
       "            \"data\": [\n",
       "                \"\\u7528\\u6237\\u6570\"\n",
       "            ],\n",
       "            \"selectedMode\": \"multiple\",\n",
       "            \"show\": true,\n",
       "            \"left\": \"center\",\n",
       "            \"top\": \"top\",\n",
       "            \"orient\": \"horizontal\",\n",
       "            \"textStyle\": {\n",
       "                \"fontSize\": 12\n",
       "            }\n",
       "        }\n",
       "    ],\n",
       "    \"animation\": true,\n",
       "    \"xAxis\": [\n",
       "        {\n",
       "            \"show\": true,\n",
       "            \"nameLocation\": \"middle\",\n",
       "            \"nameGap\": 25,\n",
       "            \"nameTextStyle\": {\n",
       "                \"fontSize\": 14\n",
       "            },\n",
       "            \"axisTick\": {\n",
       "                \"alignWithLabel\": false\n",
       "            },\n",
       "            \"inverse\": false,\n",
       "            \"boundaryGap\": true,\n",
       "            \"type\": \"category\",\n",
       "            \"splitLine\": {\n",
       "                \"show\": false\n",
       "            },\n",
       "            \"axisLine\": {\n",
       "                \"lineStyle\": {\n",
       "                    \"width\": 1\n",
       "                }\n",
       "            },\n",
       "            \"axisLabel\": {\n",
       "                \"interval\": \"auto\",\n",
       "                \"rotate\": 0,\n",
       "                \"margin\": 8,\n",
       "                \"textStyle\": {\n",
       "                    \"fontSize\": 12\n",
       "                }\n",
       "            },\n",
       "            \"data\": [\n",
       "                \"1-26\",\n",
       "                \"1-27\",\n",
       "                \"1-28\",\n",
       "                \"1-29\",\n",
       "                \"1-30\",\n",
       "                \"1-31\",\n",
       "                \"2-01\",\n",
       "                \"2-02\",\n",
       "                \"2-03\",\n",
       "                \"2-04\",\n",
       "                \"2-05\",\n",
       "                \"2-06\",\n",
       "                \"2-07\",\n",
       "                \"2-08\",\n",
       "                \"2-09\",\n",
       "                \"2-10\",\n",
       "                \"2-11\",\n",
       "                \"2-12\",\n",
       "                \"2-13\",\n",
       "                \"2-14\",\n",
       "                \"2-15\",\n",
       "                \"2-16\",\n",
       "                \"2-17\",\n",
       "                \"2-18\",\n",
       "                \"2-19\",\n",
       "                \"2-20\",\n",
       "                \"2-21\",\n",
       "                \"2-22\",\n",
       "                \"2-23\",\n",
       "                \"2-24\",\n",
       "                \"2-25\",\n",
       "                \"2-26\",\n",
       "                \"2-27\",\n",
       "                \"2-28\",\n",
       "                \"3-01\",\n",
       "                \"3-02\",\n",
       "                \"3-03\",\n",
       "                \"3-04\",\n",
       "                \"3-05\",\n",
       "                \"3-06\"\n",
       "            ]\n",
       "        }\n",
       "    ],\n",
       "    \"yAxis\": [\n",
       "        {\n",
       "            \"show\": true,\n",
       "            \"nameLocation\": \"middle\",\n",
       "            \"nameGap\": 25,\n",
       "            \"nameTextStyle\": {\n",
       "                \"fontSize\": 14\n",
       "            },\n",
       "            \"axisTick\": {\n",
       "                \"alignWithLabel\": false\n",
       "            },\n",
       "            \"inverse\": false,\n",
       "            \"boundaryGap\": true,\n",
       "            \"type\": \"value\",\n",
       "            \"splitLine\": {\n",
       "                \"show\": true\n",
       "            },\n",
       "            \"axisLine\": {\n",
       "                \"lineStyle\": {\n",
       "                    \"width\": 1\n",
       "                }\n",
       "            },\n",
       "            \"axisLabel\": {\n",
       "                \"interval\": \"auto\",\n",
       "                \"formatter\": \"{value} \",\n",
       "                \"rotate\": 0,\n",
       "                \"margin\": 8,\n",
       "                \"textStyle\": {\n",
       "                    \"fontSize\": 12\n",
       "                }\n",
       "            }\n",
       "        }\n",
       "    ],\n",
       "    \"color\": []\n",
       "};\n",
       "myChart_186bef044c714b59b1f175db7d18950b.setOption(option_186bef044c714b59b1f175db7d18950b);\n",
       "\n",
       "    });\n",
       "</script>\n"
      ],
      "text/plain": [
       "<pyecharts.charts.line.Line at 0x1a8766e978>"
      ]
     },
     "execution_count": 39,
     "metadata": {},
     "output_type": "execute_result"
    }
   ],
   "source": [
    "line2 = Line('用户数统计-天')\n",
    "line2.use_theme('dark')\n",
    "line2.add('用户数',train_day_df.index,train_day_df['register_time_day'],mark_line=[\"average\"], mark_point=[\"max\", \"min\"])"
   ]
  },
  {
   "cell_type": "markdown",
   "metadata": {},
   "source": [
    "![image.png](https://github.com/cyariel/pay_price/blob/master/fig/%E7%94%A8%E6%88%B7%E6%95%B0%E7%BB%9F%E8%AE%A1-%E5%A4%A9.png)"
   ]
  },
  {
   "cell_type": "markdown",
   "metadata": {},
   "source": [
    "上面可以看出二月是一整个月的数据，一月三月数据都不全；2月19这天用户数远远大于其他天数，可能有活动？"
   ]
  },
  {
   "cell_type": "code",
   "execution_count": 40,
   "metadata": {},
   "outputs": [
    {
     "data": {
      "text/html": [
       "<script>\n",
       "    require.config({\n",
       "        paths: {\n",
       "            'echarts': '/nbextensions/echarts/echarts.min'\n",
       "        }\n",
       "    });\n",
       "</script>\n",
       "    <div id=\"6c4eb4bf2b714fcd9839638124cf3ddb\" style=\"width:800px;height:400px;\"></div>\n",
       "\n",
       "\n",
       "<script>\n",
       "    require(['echarts'], function(echarts) {\n",
       "        \n",
       "var myChart_6c4eb4bf2b714fcd9839638124cf3ddb = echarts.init(document.getElementById('6c4eb4bf2b714fcd9839638124cf3ddb'), 'dark', {renderer: 'canvas'});\n",
       "\n",
       "var option_6c4eb4bf2b714fcd9839638124cf3ddb = {\n",
       "    \"title\": [\n",
       "        {\n",
       "            \"text\": \"\\u7528\\u6237\\u6570\\u7edf\\u8ba1-\\u65e5-\\u91d1\\u989d\",\n",
       "            \"left\": \"auto\",\n",
       "            \"top\": \"auto\",\n",
       "            \"textStyle\": {\n",
       "                \"fontSize\": 18\n",
       "            },\n",
       "            \"subtextStyle\": {\n",
       "                \"fontSize\": 12\n",
       "            }\n",
       "        }\n",
       "    ],\n",
       "    \"toolbox\": {\n",
       "        \"show\": true,\n",
       "        \"orient\": \"vertical\",\n",
       "        \"left\": \"95%\",\n",
       "        \"top\": \"center\",\n",
       "        \"feature\": {\n",
       "            \"saveAsImage\": {\n",
       "                \"show\": true,\n",
       "                \"title\": \"save as image\"\n",
       "            },\n",
       "            \"restore\": {\n",
       "                \"show\": true,\n",
       "                \"title\": \"restore\"\n",
       "            },\n",
       "            \"dataView\": {\n",
       "                \"show\": true,\n",
       "                \"title\": \"data view\"\n",
       "            }\n",
       "        }\n",
       "    },\n",
       "    \"series_id\": 7490578,\n",
       "    \"tooltip\": {\n",
       "        \"trigger\": \"item\",\n",
       "        \"triggerOn\": \"mousemove|click\",\n",
       "        \"axisPointer\": {\n",
       "            \"type\": \"line\"\n",
       "        },\n",
       "        \"textStyle\": {\n",
       "            \"fontSize\": 14\n",
       "        },\n",
       "        \"backgroundColor\": \"rgba(50,50,50,0.7)\",\n",
       "        \"borderColor\": \"#333\",\n",
       "        \"borderWidth\": 0\n",
       "    },\n",
       "    \"series\": [\n",
       "        {\n",
       "            \"type\": \"line\",\n",
       "            \"name\": \"\\u7528\\u6237\\u6570\",\n",
       "            \"symbol\": \"emptyCircle\",\n",
       "            \"symbolSize\": 4,\n",
       "            \"smooth\": false,\n",
       "            \"step\": false,\n",
       "            \"showSymbol\": true,\n",
       "            \"data\": [\n",
       "                [\n",
       "                    \"1-26\",\n",
       "                    70250\n",
       "                ],\n",
       "                [\n",
       "                    \"1-27\",\n",
       "                    70417\n",
       "                ],\n",
       "                [\n",
       "                    \"1-28\",\n",
       "                    79227\n",
       "                ],\n",
       "                [\n",
       "                    \"1-29\",\n",
       "                    63803\n",
       "                ],\n",
       "                [\n",
       "                    \"1-30\",\n",
       "                    50201\n",
       "                ],\n",
       "                [\n",
       "                    \"1-31\",\n",
       "                    56522\n",
       "                ],\n",
       "                [\n",
       "                    \"2-01\",\n",
       "                    83245\n",
       "                ],\n",
       "                [\n",
       "                    \"2-02\",\n",
       "                    60173\n",
       "                ],\n",
       "                [\n",
       "                    \"2-03\",\n",
       "                    51659\n",
       "                ],\n",
       "                [\n",
       "                    \"2-04\",\n",
       "                    60421\n",
       "                ],\n",
       "                [\n",
       "                    \"2-05\",\n",
       "                    60998\n",
       "                ],\n",
       "                [\n",
       "                    \"2-06\",\n",
       "                    57203\n",
       "                ],\n",
       "                [\n",
       "                    \"2-07\",\n",
       "                    71576\n",
       "                ],\n",
       "                [\n",
       "                    \"2-08\",\n",
       "                    72402\n",
       "                ],\n",
       "                [\n",
       "                    \"2-09\",\n",
       "                    50143\n",
       "                ],\n",
       "                [\n",
       "                    \"2-10\",\n",
       "                    53521\n",
       "                ],\n",
       "                [\n",
       "                    \"2-11\",\n",
       "                    54014\n",
       "                ],\n",
       "                [\n",
       "                    \"2-12\",\n",
       "                    52231\n",
       "                ],\n",
       "                [\n",
       "                    \"2-13\",\n",
       "                    50638\n",
       "                ],\n",
       "                [\n",
       "                    \"2-14\",\n",
       "                    54419\n",
       "                ],\n",
       "                [\n",
       "                    \"2-15\",\n",
       "                    78707\n",
       "                ],\n",
       "                [\n",
       "                    \"2-16\",\n",
       "                    56355\n",
       "                ],\n",
       "                [\n",
       "                    \"2-17\",\n",
       "                    44477\n",
       "                ],\n",
       "                [\n",
       "                    \"2-18\",\n",
       "                    59447\n",
       "                ],\n",
       "                [\n",
       "                    \"2-19\",\n",
       "                    117311\n",
       "                ],\n",
       "                [\n",
       "                    \"2-20\",\n",
       "                    92860\n",
       "                ],\n",
       "                [\n",
       "                    \"2-21\",\n",
       "                    43720\n",
       "                ],\n",
       "                [\n",
       "                    \"2-22\",\n",
       "                    42110\n",
       "                ],\n",
       "                [\n",
       "                    \"2-23\",\n",
       "                    44635\n",
       "                ],\n",
       "                [\n",
       "                    \"2-24\",\n",
       "                    45648\n",
       "                ],\n",
       "                [\n",
       "                    \"2-25\",\n",
       "                    49835\n",
       "                ],\n",
       "                [\n",
       "                    \"2-26\",\n",
       "                    42647\n",
       "                ],\n",
       "                [\n",
       "                    \"2-27\",\n",
       "                    39140\n",
       "                ],\n",
       "                [\n",
       "                    \"2-28\",\n",
       "                    42928\n",
       "                ],\n",
       "                [\n",
       "                    \"3-01\",\n",
       "                    36226\n",
       "                ],\n",
       "                [\n",
       "                    \"3-02\",\n",
       "                    42775\n",
       "                ],\n",
       "                [\n",
       "                    \"3-03\",\n",
       "                    48970\n",
       "                ],\n",
       "                [\n",
       "                    \"3-04\",\n",
       "                    50989\n",
       "                ],\n",
       "                [\n",
       "                    \"3-05\",\n",
       "                    44726\n",
       "                ],\n",
       "                [\n",
       "                    \"3-06\",\n",
       "                    41438\n",
       "                ]\n",
       "            ],\n",
       "            \"label\": {\n",
       "                \"normal\": {\n",
       "                    \"show\": false,\n",
       "                    \"position\": \"top\",\n",
       "                    \"textStyle\": {\n",
       "                        \"fontSize\": 12\n",
       "                    }\n",
       "                },\n",
       "                \"emphasis\": {\n",
       "                    \"show\": true,\n",
       "                    \"textStyle\": {\n",
       "                        \"fontSize\": 12\n",
       "                    }\n",
       "                }\n",
       "            },\n",
       "            \"lineStyle\": {\n",
       "                \"normal\": {\n",
       "                    \"width\": 1,\n",
       "                    \"opacity\": 1,\n",
       "                    \"curveness\": 0,\n",
       "                    \"type\": \"solid\"\n",
       "                }\n",
       "            },\n",
       "            \"areaStyle\": {\n",
       "                \"opacity\": 0\n",
       "            },\n",
       "            \"markPoint\": {\n",
       "                \"data\": []\n",
       "            },\n",
       "            \"markLine\": {\n",
       "                \"data\": [\n",
       "                    {\n",
       "                        \"type\": \"average\",\n",
       "                        \"name\": \"mean-Value\"\n",
       "                    }\n",
       "                ],\n",
       "                \"symbolSize\": 10\n",
       "            },\n",
       "            \"seriesId\": 7490578\n",
       "        },\n",
       "        {\n",
       "            \"type\": \"line\",\n",
       "            \"name\": \"prediction_pay_price\",\n",
       "            \"symbol\": \"emptyCircle\",\n",
       "            \"symbolSize\": 4,\n",
       "            \"smooth\": false,\n",
       "            \"step\": false,\n",
       "            \"showSymbol\": true,\n",
       "            \"data\": [\n",
       "                [\n",
       "                    \"1-26\",\n",
       "                    177845.23000000056\n",
       "                ],\n",
       "                [\n",
       "                    \"1-27\",\n",
       "                    104096.71000000126\n",
       "                ],\n",
       "                [\n",
       "                    \"1-28\",\n",
       "                    123979.18000000072\n",
       "                ],\n",
       "                [\n",
       "                    \"1-29\",\n",
       "                    125600.84000000136\n",
       "                ],\n",
       "                [\n",
       "                    \"1-30\",\n",
       "                    131091.40000000136\n",
       "                ],\n",
       "                [\n",
       "                    \"1-31\",\n",
       "                    72492.57000000008\n",
       "                ],\n",
       "                [\n",
       "                    \"2-01\",\n",
       "                    92862.36000000052\n",
       "                ],\n",
       "                [\n",
       "                    \"2-02\",\n",
       "                    158730.20000000077\n",
       "                ],\n",
       "                [\n",
       "                    \"2-03\",\n",
       "                    151083.20999999976\n",
       "                ],\n",
       "                [\n",
       "                    \"2-04\",\n",
       "                    88009.4100000004\n",
       "                ],\n",
       "                [\n",
       "                    \"2-05\",\n",
       "                    129282.97000000121\n",
       "                ],\n",
       "                [\n",
       "                    \"2-06\",\n",
       "                    85545.46000000075\n",
       "                ],\n",
       "                [\n",
       "                    \"2-07\",\n",
       "                    79789.35000000034\n",
       "                ],\n",
       "                [\n",
       "                    \"2-08\",\n",
       "                    131603.7000000007\n",
       "                ],\n",
       "                [\n",
       "                    \"2-09\",\n",
       "                    141210.44000000073\n",
       "                ],\n",
       "                [\n",
       "                    \"2-10\",\n",
       "                    123044.67000000116\n",
       "                ],\n",
       "                [\n",
       "                    \"2-11\",\n",
       "                    65248.249999999935\n",
       "                ],\n",
       "                [\n",
       "                    \"2-12\",\n",
       "                    134718.0900000014\n",
       "                ],\n",
       "                [\n",
       "                    \"2-13\",\n",
       "                    88954.01000000055\n",
       "                ],\n",
       "                [\n",
       "                    \"2-14\",\n",
       "                    52003.74000000004\n",
       "                ],\n",
       "                [\n",
       "                    \"2-15\",\n",
       "                    59683.82000000004\n",
       "                ],\n",
       "                [\n",
       "                    \"2-16\",\n",
       "                    131756.86000000045\n",
       "                ],\n",
       "                [\n",
       "                    \"2-17\",\n",
       "                    87966.81000000039\n",
       "                ],\n",
       "                [\n",
       "                    \"2-18\",\n",
       "                    102934.18000000046\n",
       "                ],\n",
       "                [\n",
       "                    \"2-19\",\n",
       "                    118893.19000000038\n",
       "                ],\n",
       "                [\n",
       "                    \"2-20\",\n",
       "                    102609.52000000075\n",
       "                ],\n",
       "                [\n",
       "                    \"2-21\",\n",
       "                    72723.46000000008\n",
       "                ],\n",
       "                [\n",
       "                    \"2-22\",\n",
       "                    79279.58000000032\n",
       "                ],\n",
       "                [\n",
       "                    \"2-23\",\n",
       "                    149307.88000000067\n",
       "                ],\n",
       "                [\n",
       "                    \"2-24\",\n",
       "                    81303.24000000038\n",
       "                ],\n",
       "                [\n",
       "                    \"2-25\",\n",
       "                    89714.29000000039\n",
       "                ],\n",
       "                [\n",
       "                    \"2-26\",\n",
       "                    124409.89000000073\n",
       "                ],\n",
       "                [\n",
       "                    \"2-27\",\n",
       "                    51903.97000000005\n",
       "                ],\n",
       "                [\n",
       "                    \"2-28\",\n",
       "                    81346.93000000012\n",
       "                ],\n",
       "                [\n",
       "                    \"3-01\",\n",
       "                    68320.51000000018\n",
       "                ],\n",
       "                [\n",
       "                    \"3-02\",\n",
       "                    88691.44000000034\n",
       "                ],\n",
       "                [\n",
       "                    \"3-03\",\n",
       "                    63605.66000000009\n",
       "                ],\n",
       "                [\n",
       "                    \"3-04\",\n",
       "                    68286.93000000011\n",
       "                ],\n",
       "                [\n",
       "                    \"3-05\",\n",
       "                    101095.89000000097\n",
       "                ],\n",
       "                [\n",
       "                    \"3-06\",\n",
       "                    121704.27000000098\n",
       "                ]\n",
       "            ],\n",
       "            \"label\": {\n",
       "                \"normal\": {\n",
       "                    \"show\": false,\n",
       "                    \"position\": \"top\",\n",
       "                    \"textStyle\": {\n",
       "                        \"fontSize\": 12\n",
       "                    }\n",
       "                },\n",
       "                \"emphasis\": {\n",
       "                    \"show\": true,\n",
       "                    \"textStyle\": {\n",
       "                        \"fontSize\": 12\n",
       "                    }\n",
       "                }\n",
       "            },\n",
       "            \"lineStyle\": {\n",
       "                \"normal\": {\n",
       "                    \"width\": 1,\n",
       "                    \"opacity\": 1,\n",
       "                    \"curveness\": 0,\n",
       "                    \"type\": \"solid\"\n",
       "                }\n",
       "            },\n",
       "            \"areaStyle\": {\n",
       "                \"opacity\": 0\n",
       "            },\n",
       "            \"markPoint\": {\n",
       "                \"data\": [\n",
       "                    {\n",
       "                        \"type\": \"max\",\n",
       "                        \"name\": \"Maximum\",\n",
       "                        \"symbol\": \"pin\",\n",
       "                        \"symbolSize\": 50,\n",
       "                        \"label\": {\n",
       "                            \"normal\": {\n",
       "                                \"textStyle\": {\n",
       "                                    \"color\": \"#fff\"\n",
       "                                }\n",
       "                            }\n",
       "                        }\n",
       "                    },\n",
       "                    {\n",
       "                        \"type\": \"min\",\n",
       "                        \"name\": \"Minimum\",\n",
       "                        \"symbol\": \"pin\",\n",
       "                        \"symbolSize\": 50,\n",
       "                        \"label\": {\n",
       "                            \"normal\": {\n",
       "                                \"textStyle\": {\n",
       "                                    \"color\": \"#fff\"\n",
       "                                }\n",
       "                            }\n",
       "                        }\n",
       "                    }\n",
       "                ]\n",
       "            },\n",
       "            \"markLine\": {\n",
       "                \"data\": [\n",
       "                    {\n",
       "                        \"type\": \"average\",\n",
       "                        \"name\": \"mean-Value\"\n",
       "                    }\n",
       "                ],\n",
       "                \"symbolSize\": 10\n",
       "            },\n",
       "            \"seriesId\": 7490578\n",
       "        },\n",
       "        {\n",
       "            \"type\": \"line\",\n",
       "            \"name\": \"pay_price\",\n",
       "            \"symbol\": \"emptyCircle\",\n",
       "            \"symbolSize\": 4,\n",
       "            \"smooth\": false,\n",
       "            \"step\": false,\n",
       "            \"showSymbol\": true,\n",
       "            \"data\": [\n",
       "                [\n",
       "                    \"1-26\",\n",
       "                    58211.329999999936\n",
       "                ],\n",
       "                [\n",
       "                    \"1-27\",\n",
       "                    28991.750000000367\n",
       "                ],\n",
       "                [\n",
       "                    \"1-28\",\n",
       "                    33638.77000000014\n",
       "                ],\n",
       "                [\n",
       "                    \"1-29\",\n",
       "                    36070.64000000028\n",
       "                ],\n",
       "                [\n",
       "                    \"1-30\",\n",
       "                    39000.710000000145\n",
       "                ],\n",
       "                [\n",
       "                    \"1-31\",\n",
       "                    19997.489999999918\n",
       "                ],\n",
       "                [\n",
       "                    \"2-01\",\n",
       "                    25364.590000000288\n",
       "                ],\n",
       "                [\n",
       "                    \"2-02\",\n",
       "                    50962.17000000016\n",
       "                ],\n",
       "                [\n",
       "                    \"2-03\",\n",
       "                    38287.480000000076\n",
       "                ],\n",
       "                [\n",
       "                    \"2-04\",\n",
       "                    26603.07000000011\n",
       "                ],\n",
       "                [\n",
       "                    \"2-05\",\n",
       "                    41724.63000000032\n",
       "                ],\n",
       "                [\n",
       "                    \"2-06\",\n",
       "                    23643.360000000102\n",
       "                ],\n",
       "                [\n",
       "                    \"2-07\",\n",
       "                    32535.620000000286\n",
       "                ],\n",
       "                [\n",
       "                    \"2-08\",\n",
       "                    34635.58000000009\n",
       "                ],\n",
       "                [\n",
       "                    \"2-09\",\n",
       "                    32779.77000000009\n",
       "                ],\n",
       "                [\n",
       "                    \"2-10\",\n",
       "                    36514.35000000025\n",
       "                ],\n",
       "                [\n",
       "                    \"2-11\",\n",
       "                    21892.130000000114\n",
       "                ],\n",
       "                [\n",
       "                    \"2-12\",\n",
       "                    42831.59000000016\n",
       "                ],\n",
       "                [\n",
       "                    \"2-13\",\n",
       "                    23289.19000000009\n",
       "                ],\n",
       "                [\n",
       "                    \"2-14\",\n",
       "                    26384.29000000014\n",
       "                ],\n",
       "                [\n",
       "                    \"2-15\",\n",
       "                    19889.240000000045\n",
       "                ],\n",
       "                [\n",
       "                    \"2-16\",\n",
       "                    45705.31000000025\n",
       "                ],\n",
       "                [\n",
       "                    \"2-17\",\n",
       "                    17778.22999999993\n",
       "                ],\n",
       "                [\n",
       "                    \"2-18\",\n",
       "                    23580.210000000134\n",
       "                ],\n",
       "                [\n",
       "                    \"2-19\",\n",
       "                    43465.540000000154\n",
       "                ],\n",
       "                [\n",
       "                    \"2-20\",\n",
       "                    25184.510000000202\n",
       "                ],\n",
       "                [\n",
       "                    \"2-21\",\n",
       "                    19041.159999999927\n",
       "                ],\n",
       "                [\n",
       "                    \"2-22\",\n",
       "                    20116.910000000044\n",
       "                ],\n",
       "                [\n",
       "                    \"2-23\",\n",
       "                    46503.890000000145\n",
       "                ],\n",
       "                [\n",
       "                    \"2-24\",\n",
       "                    32053.29000000023\n",
       "                ],\n",
       "                [\n",
       "                    \"2-25\",\n",
       "                    25666.040000000048\n",
       "                ],\n",
       "                [\n",
       "                    \"2-26\",\n",
       "                    40802.14000000018\n",
       "                ],\n",
       "                [\n",
       "                    \"2-27\",\n",
       "                    16173.359999999884\n",
       "                ],\n",
       "                [\n",
       "                    \"2-28\",\n",
       "                    22626.520000000117\n",
       "                ],\n",
       "                [\n",
       "                    \"3-01\",\n",
       "                    18232.81999999992\n",
       "                ],\n",
       "                [\n",
       "                    \"3-02\",\n",
       "                    30031.41000000007\n",
       "                ],\n",
       "                [\n",
       "                    \"3-03\",\n",
       "                    19091.189999999868\n",
       "                ],\n",
       "                [\n",
       "                    \"3-04\",\n",
       "                    19457.409999999974\n",
       "                ],\n",
       "                [\n",
       "                    \"3-05\",\n",
       "                    31094.510000000253\n",
       "                ],\n",
       "                [\n",
       "                    \"3-06\",\n",
       "                    33474.46000000027\n",
       "                ]\n",
       "            ],\n",
       "            \"label\": {\n",
       "                \"normal\": {\n",
       "                    \"show\": false,\n",
       "                    \"position\": \"top\",\n",
       "                    \"textStyle\": {\n",
       "                        \"fontSize\": 12\n",
       "                    }\n",
       "                },\n",
       "                \"emphasis\": {\n",
       "                    \"show\": true,\n",
       "                    \"textStyle\": {\n",
       "                        \"fontSize\": 12\n",
       "                    }\n",
       "                }\n",
       "            },\n",
       "            \"lineStyle\": {\n",
       "                \"normal\": {\n",
       "                    \"width\": 1,\n",
       "                    \"opacity\": 1,\n",
       "                    \"curveness\": 0,\n",
       "                    \"type\": \"solid\"\n",
       "                }\n",
       "            },\n",
       "            \"areaStyle\": {\n",
       "                \"opacity\": 0\n",
       "            },\n",
       "            \"markPoint\": {\n",
       "                \"data\": []\n",
       "            },\n",
       "            \"markLine\": {\n",
       "                \"data\": [\n",
       "                    {\n",
       "                        \"type\": \"average\",\n",
       "                        \"name\": \"mean-Value\"\n",
       "                    }\n",
       "                ],\n",
       "                \"symbolSize\": 10\n",
       "            },\n",
       "            \"seriesId\": 7490578\n",
       "        }\n",
       "    ],\n",
       "    \"legend\": [\n",
       "        {\n",
       "            \"data\": [\n",
       "                \"\\u7528\\u6237\\u6570\",\n",
       "                \"prediction_pay_price\",\n",
       "                \"pay_price\"\n",
       "            ],\n",
       "            \"selectedMode\": \"multiple\",\n",
       "            \"show\": true,\n",
       "            \"left\": \"center\",\n",
       "            \"top\": \"top\",\n",
       "            \"orient\": \"horizontal\",\n",
       "            \"textStyle\": {\n",
       "                \"fontSize\": 12\n",
       "            }\n",
       "        }\n",
       "    ],\n",
       "    \"animation\": true,\n",
       "    \"xAxis\": [\n",
       "        {\n",
       "            \"show\": true,\n",
       "            \"nameLocation\": \"middle\",\n",
       "            \"nameGap\": 25,\n",
       "            \"nameTextStyle\": {\n",
       "                \"fontSize\": 14\n",
       "            },\n",
       "            \"axisTick\": {\n",
       "                \"alignWithLabel\": false\n",
       "            },\n",
       "            \"inverse\": false,\n",
       "            \"boundaryGap\": true,\n",
       "            \"type\": \"category\",\n",
       "            \"splitLine\": {\n",
       "                \"show\": false\n",
       "            },\n",
       "            \"axisLine\": {\n",
       "                \"lineStyle\": {\n",
       "                    \"width\": 1\n",
       "                }\n",
       "            },\n",
       "            \"axisLabel\": {\n",
       "                \"interval\": \"auto\",\n",
       "                \"rotate\": 0,\n",
       "                \"margin\": 8,\n",
       "                \"textStyle\": {\n",
       "                    \"fontSize\": 12\n",
       "                }\n",
       "            },\n",
       "            \"data\": [\n",
       "                \"1-26\",\n",
       "                \"1-27\",\n",
       "                \"1-28\",\n",
       "                \"1-29\",\n",
       "                \"1-30\",\n",
       "                \"1-31\",\n",
       "                \"2-01\",\n",
       "                \"2-02\",\n",
       "                \"2-03\",\n",
       "                \"2-04\",\n",
       "                \"2-05\",\n",
       "                \"2-06\",\n",
       "                \"2-07\",\n",
       "                \"2-08\",\n",
       "                \"2-09\",\n",
       "                \"2-10\",\n",
       "                \"2-11\",\n",
       "                \"2-12\",\n",
       "                \"2-13\",\n",
       "                \"2-14\",\n",
       "                \"2-15\",\n",
       "                \"2-16\",\n",
       "                \"2-17\",\n",
       "                \"2-18\",\n",
       "                \"2-19\",\n",
       "                \"2-20\",\n",
       "                \"2-21\",\n",
       "                \"2-22\",\n",
       "                \"2-23\",\n",
       "                \"2-24\",\n",
       "                \"2-25\",\n",
       "                \"2-26\",\n",
       "                \"2-27\",\n",
       "                \"2-28\",\n",
       "                \"3-01\",\n",
       "                \"3-02\",\n",
       "                \"3-03\",\n",
       "                \"3-04\",\n",
       "                \"3-05\",\n",
       "                \"3-06\"\n",
       "            ]\n",
       "        }\n",
       "    ],\n",
       "    \"yAxis\": [\n",
       "        {\n",
       "            \"show\": true,\n",
       "            \"nameLocation\": \"middle\",\n",
       "            \"nameGap\": 25,\n",
       "            \"nameTextStyle\": {\n",
       "                \"fontSize\": 14\n",
       "            },\n",
       "            \"axisTick\": {\n",
       "                \"alignWithLabel\": false\n",
       "            },\n",
       "            \"inverse\": false,\n",
       "            \"boundaryGap\": true,\n",
       "            \"type\": \"value\",\n",
       "            \"splitLine\": {\n",
       "                \"show\": true\n",
       "            },\n",
       "            \"axisLine\": {\n",
       "                \"lineStyle\": {\n",
       "                    \"width\": 1\n",
       "                }\n",
       "            },\n",
       "            \"axisLabel\": {\n",
       "                \"interval\": \"auto\",\n",
       "                \"formatter\": \"{value} \",\n",
       "                \"rotate\": 0,\n",
       "                \"margin\": 8,\n",
       "                \"textStyle\": {\n",
       "                    \"fontSize\": 12\n",
       "                }\n",
       "            }\n",
       "        }\n",
       "    ],\n",
       "    \"color\": []\n",
       "};\n",
       "myChart_6c4eb4bf2b714fcd9839638124cf3ddb.setOption(option_6c4eb4bf2b714fcd9839638124cf3ddb);\n",
       "\n",
       "    });\n",
       "</script>\n"
      ],
      "text/plain": [
       "<pyecharts.charts.line.Line at 0x1a4452bba8>"
      ]
     },
     "execution_count": 40,
     "metadata": {},
     "output_type": "execute_result"
    }
   ],
   "source": [
    "temp = train[['register_time_day','prediction_pay_price','pay_price']].groupby('register_time_day',as_index=False).sum()\n",
    "line3 = Line('用户数统计-日-金额')\n",
    "line3.use_theme('dark')\n",
    "line3.add('用户数',train_day_df.index,train_day_df['register_time_day'],mark_line=[\"average\"])\n",
    "line3.add('prediction_pay_price',temp['register_time_day'],temp['prediction_pay_price'],mark_line=[\"average\"], mark_point=[\"max\", \"min\"])\n",
    "line3.add('pay_price',temp['register_time_day'],temp['pay_price'],mark_line=[\"average\"])\n"
   ]
  },
  {
   "cell_type": "markdown",
   "metadata": {},
   "source": [
    "![image.png](https://github.com/cyariel/pay_price/blob/master/fig/%E7%94%A8%E6%88%B7%E6%95%B0%E7%BB%9F%E8%AE%A1-%E6%97%A5-%E9%87%91%E9%A2%9D.png)"
   ]
  },
  {
   "cell_type": "markdown",
   "metadata": {},
   "source": [
    "上面可以看出2月19的活动好像并没有起到什么效果，付款数并没有明显增加"
   ]
  },
  {
   "cell_type": "markdown",
   "metadata": {},
   "source": [
    "### 6. 获取数与使用数之间的关系"
   ]
  },
  {
   "cell_type": "code",
   "execution_count": 43,
   "metadata": {},
   "outputs": [
    {
     "data": {
      "text/plain": [
       "<matplotlib.collections.PathCollection at 0x1a323bb518>"
      ]
     },
     "execution_count": 43,
     "metadata": {},
     "output_type": "execute_result"
    },
    {
     "data": {
      "image/png": "[encoded data removed]",
      "text/plain": [
       "<Figure size 1440x576 with 9 Axes>"
      ]
     },
     "metadata": {
      "needs_background": "light"
     },
     "output_type": "display_data"
    }
   ],
   "source": [
    "plt.figure(figsize=(20, 8))\n",
    "plt.subplot(331)\n",
    "plt.scatter(train_pay_7['wood_add_value'],train_pay_7['wood_reduce_value'])\n",
    "plt.subplot(332)\n",
    "plt.scatter(train_pay_7['stone_add_value'],train_pay_7['stone_reduce_value'])\n",
    "plt.subplot(333)\n",
    "plt.scatter(train_pay_7['ivory_add_value'],train_pay_7['ivory_reduce_value'])\n",
    "plt.subplot(334)\n",
    "plt.scatter(train_pay_7['meat_add_value'],train_pay_7['meat_reduce_value'])\n",
    "plt.subplot(335)\n",
    "plt.scatter(train_pay_7['magic_add_value'],train_pay_7['magic_reduce_value'])\n",
    "plt.subplot(336)\n",
    "plt.scatter(train_pay_7['infantry_add_value'],train_pay_7['infantry_reduce_value'])\n",
    "plt.subplot(337)\n",
    "plt.scatter(train_pay_7['cavalry_add_value'],train_pay_7['cavalry_reduce_value'])\n",
    "plt.subplot(338)\n",
    "plt.scatter(train_pay_7['shaman_add_value'],train_pay_7['shaman_reduce_value'])\n",
    "plt.subplot(339)\n",
    "plt.scatter(train_pay_7['wound_infantry_add_value'],train_pay_7['wound_infantry_reduce_value'])"
   ]
  },
  {
   "cell_type": "markdown",
   "metadata": {},
   "source": [
    "从上面可以看出，获取数与使用数之间基本都存在线性关系"
   ]
  },
  {
   "cell_type": "markdown",
   "metadata": {},
   "source": [
    "### 7. 游戏道具的等级之间的关系"
   ]
  },
  {
   "cell_type": "code",
   "execution_count": 45,
   "metadata": {},
   "outputs": [
    {
     "name": "stderr",
     "output_type": "stream",
     "text": [
      "/Users/cy_ariel/anaconda3/lib/python3.7/site-packages/scipy/stats/stats.py:1713: FutureWarning: Using a non-tuple sequence for multidimensional indexing is deprecated; use `arr[tuple(seq)]` instead of `arr[seq]`. In the future this will be interpreted as an array index, `arr[np.array(seq)]`, which will result either in an error or a different result.\n",
      "  return np.add.reduce(sorted[indexer] * weights, axis=axis) / sumval\n"
     ]
    },
    {
     "data": {
      "image/png": "[encoded data removed]",
      "text/plain": [
       "<Figure size 1440x360 with 3 Axes>"
      ]
     },
     "metadata": {
      "needs_background": "light"
     },
     "output_type": "display_data"
    }
   ],
   "source": [
    "fig, (axis1,axis2,axis3) = plt.subplots(1,3,figsize=(20,5))\n",
    "sns.distplot(train_pay_7['sr_troop_attack_level'],ax=axis1)\n",
    "sns.distplot(train_pay_7['sr_training_speed_level'],ax=axis2)\n",
    "sns.distplot(train_pay_7['sr_scout_level'],ax=axis3)\n",
    "plt.show()"
   ]
  },
  {
   "cell_type": "markdown",
   "metadata": {},
   "source": [
    "由于各个变量划分的等级也不一样，所以暂时没有看出明显的关系"
   ]
  },
  {
   "cell_type": "markdown",
   "metadata": {},
   "source": [
    "### 8. PVP、PVE相关变量"
   ]
  },
  {
   "cell_type": "code",
   "execution_count": 46,
   "metadata": {},
   "outputs": [
    {
     "data": {
      "text/plain": [
       "<matplotlib.collections.PathCollection at 0x1a4fca9cc0>"
      ]
     },
     "execution_count": 46,
     "metadata": {},
     "output_type": "execute_result"
    },
    {
     "data": {
      "image/png": "[encoded data removed]",
      "text/plain": [
       "<Figure size 1440x576 with 3 Axes>"
      ]
     },
     "metadata": {
      "needs_background": "light"
     },
     "output_type": "display_data"
    }
   ],
   "source": [
    "plt.figure(figsize=(20, 8))\n",
    "plt.subplot(131)\n",
    "#PVP次数和主动发起PVP次数\n",
    "plt.scatter(train_pay_7['pvp_battle_count'],train_pay_7['pvp_lanch_count'])\n",
    "plt.subplot(132)\n",
    "#PVP胜利次数和主动发起PVP次数\n",
    "plt.scatter(train_pay_7['pvp_win_count'],train_pay_7['pvp_lanch_count'])\n",
    "plt.subplot(133)\n",
    "#PVP次数和PVP胜利次数\n",
    "plt.scatter(train_pay_7['pvp_battle_count'],train_pay_7['pvp_win_count'])"
   ]
  },
  {
   "cell_type": "code",
   "execution_count": 47,
   "metadata": {},
   "outputs": [
    {
     "data": {
      "text/plain": [
       "<matplotlib.collections.PathCollection at 0x1a504bd128>"
      ]
     },
     "execution_count": 47,
     "metadata": {},
     "output_type": "execute_result"
    },
    {
     "data": {
      "image/png": "[encoded data removed]",
      "text/plain": [
       "<Figure size 1440x576 with 3 Axes>"
      ]
     },
     "metadata": {
      "needs_background": "light"
     },
     "output_type": "display_data"
    }
   ],
   "source": [
    "plt.figure(figsize=(20, 8))\n",
    "plt.subplot(131)\n",
    "#PVE次数和主动发起PVE次数\n",
    "plt.scatter(train_pay_7['pve_battle_count'],train_pay_7['pve_lanch_count'])\n",
    "plt.subplot(132)\n",
    "#PVP胜利次数和主动发起PVP次数\n",
    "plt.scatter(train_pay_7['pve_win_count'],train_pay_7['pve_lanch_count'])\n",
    "plt.subplot(133)\n",
    "#PVP次数和PVP胜利次数\n",
    "plt.scatter(train_pay_7['pve_battle_count'],train_pay_7['pve_win_count'])"
   ]
  },
  {
   "cell_type": "markdown",
   "metadata": {},
   "source": [
    "总结起来，很多变量之间都存在严重的线性关系"
   ]
  }
 ],
 "metadata": {
  "kernelspec": {
   "display_name": "Python 3",
   "language": "python",
   "name": "python3"
  },
  "language_info": {
   "codemirror_mode": {
    "name": "ipython",
    "version": 3
   },
   "file_extension": ".py",
   "mimetype": "text/x-python",
   "name": "python",
   "nbconvert_exporter": "python",
   "pygments_lexer": "ipython3",
   "version": "3.7.0"
  }
 },
 "nbformat": 4,
 "nbformat_minor": 2
}
